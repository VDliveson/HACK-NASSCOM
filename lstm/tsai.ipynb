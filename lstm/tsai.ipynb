{
 "cells": [
  {
   "cell_type": "code",
   "execution_count": 1,
   "metadata": {},
   "outputs": [
    {
     "name": "stdout",
     "output_type": "stream",
     "text": [
      "Requirement already satisfied: keras in e:\\python\\lib\\site-packages (2.10.0)\n",
      "Note: you may need to restart the kernel to use updated packages.\n"
     ]
    },
    {
     "name": "stderr",
     "output_type": "stream",
     "text": [
      "WARNING: You are using pip version 22.0.4; however, version 23.0.1 is available.\n",
      "You should consider upgrading via the 'e:\\Python\\python3.exe -m pip install --upgrade pip' command.\n"
     ]
    },
    {
     "name": "stdout",
     "output_type": "stream",
     "text": [
      "Requirement already satisfied: PyQt5 in e:\\python\\lib\\site-packages (5.15.9)\n",
      "Requirement already satisfied: PyQt5-Qt5>=5.15.2 in e:\\python\\lib\\site-packages (from PyQt5) (5.15.2)\n",
      "Requirement already satisfied: PyQt5-sip<13,>=12.11 in e:\\python\\lib\\site-packages (from PyQt5) (12.11.1)\n",
      "Note: you may need to restart the kernel to use updated packages.\n"
     ]
    },
    {
     "name": "stderr",
     "output_type": "stream",
     "text": [
      "WARNING: You are using pip version 22.0.4; however, version 23.0.1 is available.\n",
      "You should consider upgrading via the 'e:\\Python\\python3.exe -m pip install --upgrade pip' command.\n"
     ]
    },
    {
     "name": "stdout",
     "output_type": "stream",
     "text": [
      "Requirement already satisfied: tsai in e:\\python\\lib\\site-packages (0.3.5)\n",
      "Requirement already satisfied: pyts>=0.12.0 in e:\\python\\lib\\site-packages (from tsai) (0.12.0)\n",
      "Requirement already satisfied: torch<1.14,>=1.7.0 in e:\\python\\lib\\site-packages (from tsai) (1.12.0)\n",
      "Requirement already satisfied: psutil>=5.4.8 in e:\\python\\lib\\site-packages (from tsai) (5.9.1)\n",
      "Requirement already satisfied: imbalanced-learn>=0.8.0 in e:\\python\\lib\\site-packages (from tsai) (0.10.1)\n",
      "Requirement already satisfied: fastai>=2.7.9 in e:\\python\\lib\\site-packages (from tsai) (2.7.11)\n",
      "Requirement already satisfied: matplotlib in e:\\python\\lib\\site-packages (from fastai>=2.7.9->tsai) (3.5.2)\n",
      "Requirement already satisfied: pillow>6.0.0 in e:\\python\\lib\\site-packages (from fastai>=2.7.9->tsai) (9.2.0)\n",
      "Requirement already satisfied: pyyaml in e:\\python\\lib\\site-packages (from fastai>=2.7.9->tsai) (6.0)\n",
      "Requirement already satisfied: requests in e:\\python\\lib\\site-packages (from fastai>=2.7.9->tsai) (2.28.1)\n",
      "Requirement already satisfied: scipy in e:\\python\\lib\\site-packages (from fastai>=2.7.9->tsai) (1.10.1)\n",
      "Requirement already satisfied: fastdownload<2,>=0.0.5 in e:\\python\\lib\\site-packages (from fastai>=2.7.9->tsai) (0.0.7)\n",
      "Requirement already satisfied: pip in e:\\python\\lib\\site-packages (from fastai>=2.7.9->tsai) (22.0.4)\n",
      "Requirement already satisfied: fastprogress>=0.2.4 in e:\\python\\lib\\site-packages (from fastai>=2.7.9->tsai) (1.0.3)\n",
      "Requirement already satisfied: scikit-learn in e:\\python\\lib\\site-packages (from fastai>=2.7.9->tsai) (1.2.1)\n",
      "Requirement already satisfied: torchvision>=0.8.2 in e:\\python\\lib\\site-packages (from fastai>=2.7.9->tsai) (0.13.0)\n",
      "Requirement already satisfied: pandas in e:\\python\\lib\\site-packages (from fastai>=2.7.9->tsai) (1.4.4)\n",
      "Requirement already satisfied: spacy<4 in e:\\python\\lib\\site-packages (from fastai>=2.7.9->tsai) (3.5.0)\n",
      "Requirement already satisfied: fastcore<1.6,>=1.4.5 in e:\\python\\lib\\site-packages (from fastai>=2.7.9->tsai) (1.5.28)\n",
      "Requirement already satisfied: packaging in e:\\python\\lib\\site-packages (from fastai>=2.7.9->tsai) (21.3)\n",
      "Requirement already satisfied: joblib>=1.1.1 in e:\\python\\lib\\site-packages (from imbalanced-learn>=0.8.0->tsai) (1.2.0)\n",
      "Requirement already satisfied: threadpoolctl>=2.0.0 in e:\\python\\lib\\site-packages (from imbalanced-learn>=0.8.0->tsai) (3.1.0)\n",
      "Requirement already satisfied: numpy>=1.17.3 in e:\\python\\lib\\site-packages (from imbalanced-learn>=0.8.0->tsai) (1.23.1)\n",
      "Requirement already satisfied: numba>=0.48.0 in e:\\python\\lib\\site-packages (from pyts>=0.12.0->tsai) (0.56.2)\n",
      "Requirement already satisfied: typing-extensions in e:\\python\\lib\\site-packages (from torch<1.14,>=1.7.0->tsai) (4.3.0)\n",
      "Requirement already satisfied: llvmlite<0.40,>=0.39.0dev0 in e:\\python\\lib\\site-packages (from numba>=0.48.0->pyts>=0.12.0->tsai) (0.39.1)\n",
      "Requirement already satisfied: setuptools<60 in e:\\python\\lib\\site-packages (from numba>=0.48.0->pyts>=0.12.0->tsai) (58.1.0)\n",
      "Requirement already satisfied: spacy-legacy<3.1.0,>=3.0.11 in e:\\python\\lib\\site-packages (from spacy<4->fastai>=2.7.9->tsai) (3.0.12)\n",
      "Requirement already satisfied: catalogue<2.1.0,>=2.0.6 in e:\\python\\lib\\site-packages (from spacy<4->fastai>=2.7.9->tsai) (2.0.8)\n",
      "Requirement already satisfied: cymem<2.1.0,>=2.0.2 in e:\\python\\lib\\site-packages (from spacy<4->fastai>=2.7.9->tsai) (2.0.7)\n",
      "Requirement already satisfied: pathy>=0.10.0 in e:\\python\\lib\\site-packages (from spacy<4->fastai>=2.7.9->tsai) (0.10.1)\n",
      "Requirement already satisfied: smart-open<7.0.0,>=5.2.1 in e:\\python\\lib\\site-packages (from spacy<4->fastai>=2.7.9->tsai) (6.3.0)\n",
      "Requirement already satisfied: pydantic!=1.8,!=1.8.1,<1.11.0,>=1.7.4 in e:\\python\\lib\\site-packages (from spacy<4->fastai>=2.7.9->tsai) (1.10.5)\n",
      "Requirement already satisfied: tqdm<5.0.0,>=4.38.0 in e:\\python\\lib\\site-packages (from spacy<4->fastai>=2.7.9->tsai) (4.64.1)\n",
      "Requirement already satisfied: spacy-loggers<2.0.0,>=1.0.0 in e:\\python\\lib\\site-packages (from spacy<4->fastai>=2.7.9->tsai) (1.0.4)\n",
      "Requirement already satisfied: thinc<8.2.0,>=8.1.0 in e:\\python\\lib\\site-packages (from spacy<4->fastai>=2.7.9->tsai) (8.1.7)\n",
      "Requirement already satisfied: jinja2 in e:\\python\\lib\\site-packages (from spacy<4->fastai>=2.7.9->tsai) (3.1.2)\n",
      "Requirement already satisfied: murmurhash<1.1.0,>=0.28.0 in e:\\python\\lib\\site-packages (from spacy<4->fastai>=2.7.9->tsai) (1.0.9)\n",
      "Requirement already satisfied: wasabi<1.2.0,>=0.9.1 in e:\\python\\lib\\site-packages (from spacy<4->fastai>=2.7.9->tsai) (1.1.1)\n",
      "Requirement already satisfied: srsly<3.0.0,>=2.4.3 in e:\\python\\lib\\site-packages (from spacy<4->fastai>=2.7.9->tsai) (2.4.5)\n",
      "Requirement already satisfied: langcodes<4.0.0,>=3.2.0 in e:\\python\\lib\\site-packages (from spacy<4->fastai>=2.7.9->tsai) (3.3.0)\n",
      "Requirement already satisfied: typer<0.8.0,>=0.3.0 in e:\\python\\lib\\site-packages (from spacy<4->fastai>=2.7.9->tsai) (0.7.0)\n",
      "Requirement already satisfied: preshed<3.1.0,>=3.0.2 in e:\\python\\lib\\site-packages (from spacy<4->fastai>=2.7.9->tsai) (3.0.8)\n",
      "Requirement already satisfied: pyparsing!=3.0.5,>=2.0.2 in e:\\python\\lib\\site-packages (from packaging->fastai>=2.7.9->tsai) (3.0.9)\n",
      "Requirement already satisfied: idna<4,>=2.5 in e:\\python\\lib\\site-packages (from requests->fastai>=2.7.9->tsai) (3.3)\n",
      "Requirement already satisfied: charset-normalizer<3,>=2 in e:\\python\\lib\\site-packages (from requests->fastai>=2.7.9->tsai) (2.1.0)\n",
      "Requirement already satisfied: certifi>=2017.4.17 in e:\\python\\lib\\site-packages (from requests->fastai>=2.7.9->tsai) (2022.6.15)\n",
      "Requirement already satisfied: urllib3<1.27,>=1.21.1 in e:\\python\\lib\\site-packages (from requests->fastai>=2.7.9->tsai) (1.26.11)\n",
      "Requirement already satisfied: python-dateutil>=2.7 in e:\\python\\lib\\site-packages (from matplotlib->fastai>=2.7.9->tsai) (2.8.2)\n",
      "Requirement already satisfied: cycler>=0.10 in e:\\python\\lib\\site-packages (from matplotlib->fastai>=2.7.9->tsai) (0.11.0)\n",
      "Requirement already satisfied: fonttools>=4.22.0 in e:\\python\\lib\\site-packages (from matplotlib->fastai>=2.7.9->tsai) (4.34.4)\n",
      "Requirement already satisfied: kiwisolver>=1.0.1 in e:\\python\\lib\\site-packages (from matplotlib->fastai>=2.7.9->tsai) (1.4.4)\n",
      "Requirement already satisfied: pytz>=2020.1 in e:\\python\\lib\\site-packages (from pandas->fastai>=2.7.9->tsai) (2022.2.1)\n",
      "Requirement already satisfied: six>=1.5 in e:\\python\\lib\\site-packages (from python-dateutil>=2.7->matplotlib->fastai>=2.7.9->tsai) (1.16.0)\n",
      "Requirement already satisfied: blis<0.8.0,>=0.7.8 in e:\\python\\lib\\site-packages (from thinc<8.2.0,>=8.1.0->spacy<4->fastai>=2.7.9->tsai) (0.7.9)\n",
      "Requirement already satisfied: confection<1.0.0,>=0.0.1 in e:\\python\\lib\\site-packages (from thinc<8.2.0,>=8.1.0->spacy<4->fastai>=2.7.9->tsai) (0.0.4)\n",
      "Requirement already satisfied: colorama in e:\\python\\lib\\site-packages (from tqdm<5.0.0,>=4.38.0->spacy<4->fastai>=2.7.9->tsai) (0.4.6)\n",
      "Requirement already satisfied: click<9.0.0,>=7.1.1 in e:\\python\\lib\\site-packages (from typer<0.8.0,>=0.3.0->spacy<4->fastai>=2.7.9->tsai) (8.1.3)\n",
      "Requirement already satisfied: MarkupSafe>=2.0 in e:\\python\\lib\\site-packages (from jinja2->spacy<4->fastai>=2.7.9->tsai) (2.1.1)\n",
      "Note: you may need to restart the kernel to use updated packages.\n"
     ]
    },
    {
     "name": "stderr",
     "output_type": "stream",
     "text": [
      "WARNING: You are using pip version 22.0.4; however, version 23.0.1 is available.\n",
      "You should consider upgrading via the 'e:\\Python\\python3.exe -m pip install --upgrade pip' command.\n"
     ]
    }
   ],
   "source": [
    "%pip install keras\n",
    "%pip install PyQt5\n",
    "%pip install tsai\n",
    "import pandas as pd\n",
    "import numpy as np\n",
    "import tensorflow as tf\n",
    "import PyQt5\n",
    "import matplotlib.pyplot as plt\n",
    "import datetime as dt\n",
    "import tsai\n",
    "\n"
   ]
  },
  {
   "cell_type": "code",
   "execution_count": 2,
   "metadata": {},
   "outputs": [
    {
     "name": "stderr",
     "output_type": "stream",
     "text": [
      "e:\\Python\\lib\\site-packages\\tqdm\\auto.py:22: TqdmWarning: IProgress not found. Please update jupyter and ipywidgets. See https://ipywidgets.readthedocs.io/en/stable/user_install.html\n",
      "  from .autonotebook import tqdm as notebook_tqdm\n"
     ]
    }
   ],
   "source": [
    "from tsai.all import *"
   ]
  },
  {
   "cell_type": "code",
   "execution_count": 3,
   "metadata": {},
   "outputs": [],
   "source": [
    "data = pd.read_csv(\"../complete_merged.csv\",index_col=0)"
   ]
  },
  {
   "cell_type": "code",
   "execution_count": 6,
   "metadata": {},
   "outputs": [
    {
     "name": "stdout",
     "output_type": "stream",
     "text": [
      "False\n",
      "False\n",
      "(56137, 9, 20) (56137, 9)\n"
     ]
    },
    {
     "data": {
      "text/plain": [
       "(array([['Adilabad', 'Adilabad', 'Adilabad', 'Adilabad', 'Adilabad',\n",
       "         'Adilabad', 'Adilabad', 'Adilabad', 'Adilabad', 'Adilabad',\n",
       "         'Adilabad', 'Adilabad', 'Adilabad', 'Adilabad', 'Adilabad',\n",
       "         'Adilabad', 'Adilabad', 'Adilabad', 'Adilabad', 'Adilabad'],\n",
       "        ['2018-01-01', '2018-01-02', '2018-01-03', '2018-01-04',\n",
       "         '2018-01-05', '2018-01-06', '2018-01-07', '2018-01-08',\n",
       "         '2018-01-09', '2018-01-10', '2018-01-11', '2018-01-12',\n",
       "         '2018-01-13', '2018-01-14', '2018-01-15', '2018-01-16',\n",
       "         '2018-01-17', '2018-01-18', '2018-01-19', '2018-01-20'],\n",
       "        [0.0, 0.0, 0.0, 0.0, 0.0, 3.973684210526316, 2.031578947368421,\n",
       "         1.6157894736842109, 23.605263157894736, 0.0, 0.0, 0.0, 0.0, 0.0,\n",
       "         0.0, 0.0, 0.0, 0.0, 0.0, 0.0],\n",
       "        [11.2, 12.426315789473684, 20.13157894736842, 26.14736842105264,\n",
       "         29.168421052631583, 25.71052631578948, 25.221052631578942,\n",
       "         24.36842105263158, 22.64210526315789, 21.93030303030304,\n",
       "         18.96315789473684, 14.221052631578948, 14.536842105263156,\n",
       "         15.13684210526316, 17.621052631578948, 14.294736842105264,\n",
       "         12.84736842105263, 14.057894736842108, 11.057894736842105, 10.3],\n",
       "        [30.43684210526316, 33.62105263157895, 37.04736842105263,\n",
       "         40.43157894736842, 43.08421052631579, 39.79473684210527,\n",
       "         34.98947368421052, 31.657894736842103, 26.721052631578942,\n",
       "         34.39090909090909, 31.84210526315789, 30.1, 32.88421052631579,\n",
       "         33.11052631578948, 33.857894736842105, 33.48947368421052,\n",
       "         32.300000000000004, 32.89473684210526, 31.3, 30.96315789473684],\n",
       "        [25.721052631578942, 13.842105263157896, 15.736842105263158, 9.0,\n",
       "         11.38421052631579, 33.91052631578947, 51.72631578947368,\n",
       "         62.2842105263158, 83.0421052631579, 51.127272727272725,\n",
       "         45.21052631578947, 36.78421052631579, 24.13157894736842,\n",
       "         18.61578947368421, 23.821052631578947, 27.831578947368417,\n",
       "         23.93684210526316, 24.652631578947368, 22.88421052631579,\n",
       "         20.03684210526316],\n",
       "        [75.48421052631579, 57.2842105263158, 45.57368421052632,\n",
       "         72.45263157894736, 39.2, 74.56842105263158, 81.2,\n",
       "         88.98421052631579, 93.67368421052632, 93.55454545454546,\n",
       "         90.66315789473684, 84.9421052631579, 67.91578947368421,\n",
       "         63.52105263157896, 65.38421052631578, 73.53684210526316,\n",
       "         70.22105263157896, 66.91578947368421, 64.66842105263159,\n",
       "         67.16315789473684],\n",
       "        [0.2368421052631578, 0.0, 0.0, 0.0789473684210526,\n",
       "         0.2526315789473684, 2.194736842105263, 0.0473684210526315,\n",
       "         0.1526315789473684, 0.0, 0.0, 0.0, 0.0105263157894736, 0.0,\n",
       "         0.2421052631578947, 0.0105263157894736, 0.0, 0.0105263157894736,\n",
       "         0.0684210526315789, 0.2105263157894736, 0.0368421052631578],\n",
       "        [9.121052631578948, 9.094736842105265, 10.636842105263158,\n",
       "         15.726315789473684, 17.742105263157896, 23.56842105263157,\n",
       "         11.36842105263158, 13.015789473684212, 14.021052631578948,\n",
       "         6.263636363636364, 11.952631578947368, 7.973684210526316,\n",
       "         7.310526315789474, 9.105263157894736, 6.926315789473684,\n",
       "         8.194736842105263, 9.2, 9.215789473684213, 11.41578947368421,\n",
       "         9.48421052631579]], dtype=object),\n",
       " array(['Adilabad', '2018-01-21', 0.0, 11.089473684210526,\n",
       "        31.26842105263158, 19.357894736842105, 68.0578947368421,\n",
       "        0.031578947368421, 9.236842105263158], dtype=object))"
      ]
     },
     "execution_count": 6,
     "metadata": {},
     "output_type": "execute_result"
    }
   ],
   "source": [
    "# %%script false\n",
    "window_len = 20\n",
    "horizon = 1\n",
    "x_vars = None\n",
    "y_vars = None\n",
    "X, y = apply_sliding_window(data, window_len, horizon=horizon, x_vars=x_vars, y_vars=y_vars)\n",
    "print(np.shares_memory(X, data))\n",
    "print(np.shares_memory(y, data))\n",
    "print(X.shape, y.shape)\n",
    "# test_eq(X.shape, (len(df) - (window_len - 1 + horizon), df.shape[1], window_len))\n",
    "# test_eq(y.shape, (len(df) - (window_len - 1 + horizon), df.shape[1]))\n",
    "X[0], y[0]"
   ]
  },
  {
   "cell_type": "code",
   "execution_count": 7,
   "metadata": {},
   "outputs": [
    {
     "name": "stdout",
     "output_type": "stream",
     "text": [
      "True\n",
      "[[20]\n",
      " [30]\n",
      " [40]] 50\n"
     ]
    }
   ],
   "source": [
    "#Testing datetime consecutiveness\n",
    "\n",
    "\n",
    "def checkConsecutiveDates(date_strs):\n",
    "    dates = [dt.datetime.strptime(d, \"%Y-%m-%d\") for d in date_strs]\n",
    "\n",
    "    date_ints = set([d.toordinal() for d in dates])\n",
    "    if len(date_ints) == 1:\n",
    "        return True\n",
    "    elif max(date_ints) - min(date_ints) == len(date_ints) - 1:\n",
    "        return True\n",
    "    else:\n",
    "        return False\n",
    "    \n",
    "\n",
    "\n",
    "def split_sequence(date_sequence,temp_sequence, n_steps,n_features):\n",
    "    X, y = list(), list()\n",
    "    for i in range(len(temp_sequence)):\n",
    "    # find the end of this pattern\n",
    "        end_ix = i + n_steps\n",
    " # check if we are beyond the sequence\n",
    "        if end_ix > len(temp_sequence)-1:\n",
    "            break\n",
    " # gather input and output parts of the pattern\n",
    "        seq_x, seq_y = temp_sequence[i:end_ix], temp_sequence[end_ix]\n",
    "        date_seq = date_sequence[i:end_ix]\n",
    "        # print(checkConsecutive(seq_x))\n",
    "        if(checkConsecutiveDates(date_seq)):\n",
    "            X.append(seq_x)\n",
    "            y.append(seq_y)\n",
    "    X,y = np.array(X), np.array(y)\n",
    "    X = X.reshape((X.shape[0], X.shape[1], n_features))\n",
    "        \n",
    "    return X,y\n",
    "\n",
    "def get_data(district,column):\n",
    "    return data[data['district'] == district].sort_values(axis = 0,by = \"date\")[column].to_list()\n",
    "   \n",
    "\n",
    "\n",
    "\n",
    "# date_strs = ['02-29-2012', '02-28-2012', '03-01-2012']\n",
    "date_strs = ['1999-12-31','2000-01-01']\n",
    "print(checkConsecutiveDates(date_strs))\n",
    "\n",
    "X,y = split_sequence(['2021-01-09','2021-01-11','2021-01-12','2021-01-13','2021-01-14'],[10, 20, 30, 40, 50],3,1)\n",
    "for i in range(len(X)):\n",
    "    print(X[i], y[i])\n",
    "\n",
    "\n",
    "\n"
   ]
  },
  {
   "cell_type": "code",
   "execution_count": 8,
   "metadata": {},
   "outputs": [
    {
     "data": {
      "image/png": "[encoded data removed]",
      "text/plain": [
       "<Figure size 432x288 with 1 Axes>"
      ]
     },
     "metadata": {},
     "output_type": "display_data"
    },
    {
     "data": {
      "image/png": "[encoded data removed]",
      "text/plain": [
       "<Figure size 936x288 with 2 Axes>"
      ]
     },
     "metadata": {
      "needs_background": "light"
     },
     "output_type": "display_data"
    }
   ],
   "source": [
    "data_Adilabad_temp = get_data('Adilabad','temp_max')\n",
    "data_Adilabad_date = get_data('Adilabad','date')\n",
    "# print(data_Adilabad_date)\n",
    "X,y = split_sequence(data_Adilabad_date,data_Adilabad_temp,window_len,1)\n",
    "\n",
    "batch_tfms = TSStandardize(by_sample=True)\n",
    "reg = TSRegressor(X, y, path='models', batch_tfms=batch_tfms, metrics=rmse, cbs=ShowGraph(), verbose=True)\n",
    "reg.fit_one_cycle(100, 3e-4)\n",
    "reg.export(\"reg.pkl\")"
   ]
  },
  {
   "cell_type": "code",
   "execution_count": 9,
   "metadata": {},
   "outputs": [],
   "source": [
    "from tsai.inference import load_learner\n",
    "reg = load_learner(\"models/reg.pkl\")\n",
    "raw_preds, target, preds = reg.get_X_preds(X, y)"
   ]
  },
  {
   "cell_type": "code",
   "execution_count": 10,
   "metadata": {},
   "outputs": [
    {
     "name": "stdout",
     "output_type": "stream",
     "text": [
      "TensorBase([[30.3797],\n",
      "            [31.6437],\n",
      "            [29.8322],\n",
      "            ...,\n",
      "            [32.3619],\n",
      "            [32.6319],\n",
      "            [30.9567]])\n",
      "tensor([31.2684, 31.1053, 32.1579,  ..., 33.8944, 32.6056, 32.1667],\n",
      "       dtype=torch.float64)\n",
      "TensorBase([[30.3797],\n",
      "            [31.6437],\n",
      "            [29.8322],\n",
      "            ...,\n",
      "            [32.3619],\n",
      "            [32.6319],\n",
      "            [30.9567]])\n"
     ]
    }
   ],
   "source": [
    "print(raw_preds)\n",
    "print(target)\n",
    "print(preds)"
   ]
  },
  {
   "cell_type": "code",
   "execution_count": 12,
   "metadata": {},
   "outputs": [],
   "source": [
    "date_X,date_y = split_sequence(data_Adilabad_date,data_Adilabad_date,window_len,1)\n",
    "\n",
    "%matplotlib qt\n",
    "date_y = np.asarray(date_y, dtype='datetime64[s]')\n",
    "\n",
    "plt.plot(date_y,target)\n",
    "plt.plot(date_y,preds)\n",
    "plt.show()"
   ]
  },
  {
   "cell_type": "code",
   "execution_count": null,
   "metadata": {},
   "outputs": [],
   "source": []
  }
 ],
 "metadata": {
  "kernelspec": {
   "display_name": "Python 3",
   "language": "python",
   "name": "python3"
  },
  "language_info": {
   "codemirror_mode": {
    "name": "ipython",
    "version": 3
   },
   "file_extension": ".py",
   "mimetype": "text/x-python",
   "name": "python",
   "nbconvert_exporter": "python",
   "pygments_lexer": "ipython3",
   "version": "3.10.5"
  },
  "orig_nbformat": 4,
  "vscode": {
   "interpreter": {
    "hash": "909f0b76f81b73c0ef4c751cc35ea89d4758d30c8c87996ed8f07628885546c5"
   }
  }
 },
 "nbformat": 4,
 "nbformat_minor": 2
}
