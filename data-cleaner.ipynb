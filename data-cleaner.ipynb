{
 "cells": [
  {
   "cell_type": "code",
   "execution_count": 2,
   "metadata": {},
   "outputs": [],
   "source": [
    "import numpy as np\n",
    "import pandas as pd\n",
    "import os"
   ]
  },
  {
   "cell_type": "code",
   "execution_count": 25,
   "metadata": {},
   "outputs": [],
   "source": [
    "def isSubset(arr1, arr2):\n",
    "    m = len(arr1)\n",
    "    n = len(arr2)\n",
    "    i = 0\n",
    "    j = 0\n",
    "    for i in range(n):\n",
    "        for j in range(m):\n",
    "            if(arr2[i] == arr1[j]):\n",
    "                break\n",
    "         \n",
    "        if (j == m):\n",
    "            return 0\n",
    "    return 1"
   ]
  },
  {
   "cell_type": "code",
   "execution_count": 43,
   "metadata": {},
   "outputs": [
    {
     "name": "stdout",
     "output_type": "stream",
     "text": [
      "48\n"
     ]
    },
    {
     "name": "stderr",
     "output_type": "stream",
     "text": [
      "C:\\Users\\Vanshaj\\AppData\\Local\\Temp\\ipykernel_22332\\3557704439.py:11: DtypeWarning: Columns (0) have mixed types. Specify dtype option on import or set low_memory=False.\n",
      "  df = pd.read_csv(current_file)\n"
     ]
    }
   ],
   "source": [
    "vehicle_dataset_folder = r\"D:\\NASSCOM data\\dataset\\AQI\\vehicle-sales\"\n",
    "files = os.listdir(vehicle_dataset_folder)\n",
    "print(len(files))\n",
    "\n",
    "# init_columns = ['fuel', 'vehicleclass','makeyear', 'seatcapacity', 'makername']\n",
    "init_columns = ['vehicleclass','makeyear', 'seatcapacity']\n",
    "\n",
    "## Check if all the data files have the required columns\n",
    "for file in files:\n",
    "    current_file = os.path.join(vehicle_dataset_folder,file)\n",
    "    df = pd.read_csv(current_file)\n",
    "    column_names = df.columns.str.lower()\n",
    "    if(not isSubset(column_names,init_columns)):\n",
    "        print(current_file)"
   ]
  },
  {
   "cell_type": "code",
   "execution_count": 44,
   "metadata": {},
   "outputs": [
    {
     "name": "stderr",
     "output_type": "stream",
     "text": [
      "C:\\Users\\Vanshaj\\AppData\\Local\\Temp\\ipykernel_22332\\3657154697.py:5: DtypeWarning: Columns (0) have mixed types. Specify dtype option on import or set low_memory=False.\n",
      "  df = pd.read_csv(current_file)\n"
     ]
    },
    {
     "name": "stdout",
     "output_type": "stream",
     "text": [
      "(7092967, 3)\n"
     ]
    }
   ],
   "source": [
    "final_df = pd.DataFrame()\n",
    "\n",
    "for file in files:\n",
    "    current_file = os.path.join(vehicle_dataset_folder,file)\n",
    "    df = pd.read_csv(current_file)\n",
    "    df= df.rename(columns=str.lower)\n",
    "    df = df[init_columns]\n",
    "    final_df = pd.concat([final_df,df],ignore_index = True)\n",
    "print(final_df.shape)"
   ]
  },
  {
   "cell_type": "code",
   "execution_count": 45,
   "metadata": {},
   "outputs": [
    {
     "data": {
      "text/plain": [
       "vehicleclass    2\n",
       "makeyear        2\n",
       "seatcapacity    2\n",
       "dtype: int64"
      ]
     },
     "execution_count": 45,
     "metadata": {},
     "output_type": "execute_result"
    }
   ],
   "source": [
    "final_df.isna().sum()"
   ]
  },
  {
   "cell_type": "code",
   "execution_count": null,
   "metadata": {},
   "outputs": [],
   "source": []
  }
 ],
 "metadata": {
  "kernelspec": {
   "display_name": "Python 3.10.9 ('ml-env')",
   "language": "python",
   "name": "python3"
  },
  "language_info": {
   "codemirror_mode": {
    "name": "ipython",
    "version": 3
   },
   "file_extension": ".py",
   "mimetype": "text/x-python",
   "name": "python",
   "nbconvert_exporter": "python",
   "pygments_lexer": "ipython3",
   "version": "3.10.9"
  },
  "orig_nbformat": 4,
  "vscode": {
   "interpreter": {
    "hash": "5be6185028b8fdc27357d731eb78f3ce2eeb64c688b3de13651aab36b4da8095"
   }
  }
 },
 "nbformat": 4,
 "nbformat_minor": 2
}
